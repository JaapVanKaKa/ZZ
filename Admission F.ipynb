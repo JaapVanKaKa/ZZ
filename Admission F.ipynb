{
 "cells": [
  {
   "cell_type": "markdown",
   "id": "b7c72fbb",
   "metadata": {},
   "source": [
    "# Debuging"
   ]
  },
  {
   "cell_type": "code",
   "execution_count": 1,
   "id": "ff6e9f51",
   "metadata": {},
   "outputs": [
    {
     "name": "stdout",
     "output_type": "stream",
     "text": [
      "['orange', 'kiwi', 'strawberry']\n"
     ]
    }
   ],
   "source": [
    "OrderedSet = [\"apple\", \"orange\", \"melon\", \"kiwi\", \"strawberry\"]\n",
    "print([OrderedSet[x] for x in [1, 3, 4]]) "
   ]
  },
  {
   "cell_type": "code",
   "execution_count": 33,
   "id": "487f021a",
   "metadata": {},
   "outputs": [
    {
     "data": {
      "text/plain": [
       "array([[ 5, 10,  6, 15,  0],\n",
       "       [ 3, 11,  6, 13,  0],\n",
       "       [ 3,  5,  6, 13,  1],\n",
       "       [ 4,  4,  6, 13,  1],\n",
       "       [ 5,  6, 16, 13,  1]])"
      ]
     },
     "execution_count": 33,
     "metadata": {},
     "output_type": "execute_result"
    }
   ],
   "source": [
    "\"\"\"A numpy array of bounding box coordinates with shape [n,5] in format:\n",
    "\n",
    "[[x11, y11, x12, y12, classid1],\n",
    " [x21, y21, x22, y22, classid2],\n",
    " ...\n",
    " [xn1, yn1, xn2, yn2, classid3]]\"\"\"\n",
    "\n",
    "import numpy as np\n",
    "coords = np.array([[10, 5, 15, 6, 0],\n",
    "                   [11, 3, 13, 6, 0],\n",
    "                   [5, 3, 13, 6, 1],\n",
    "                   [4, 4, 13, 6, 1],\n",
    "                   [6, 5, 13, 16, 1]])\n",
    "\n",
    "coords[:,[1,0,3,2,4]]"
   ]
  },
  {
   "cell_type": "code",
   "execution_count": 2,
   "id": "c33a1a19",
   "metadata": {},
   "outputs": [
    {
     "data": {
      "image/png": "[encoded data removed]",
      "text/plain": [
       "<Figure size 640x480 with 1 Axes>"
      ]
     },
     "metadata": {},
     "output_type": "display_data"
    }
   ],
   "source": [
    "import csv\n",
    "import matplotlib.pyplot as plt\n",
    "import pandas as pd\n",
    "\n",
    "f = open(\"data_file.csv\", \"w\")\n",
    "w = csv.writer(f)\n",
    "_ = w.writerow([\"precision\", \"recall\"])\n",
    "w.writerows([[0.013,0.951],\n",
    "             [0.376,0.851],\n",
    "             [0.441,0.839],\n",
    "             [0.570,0.758],\n",
    "             [0.635,0.674],\n",
    "             [0.721,0.604],\n",
    "             [0.837,0.531],\n",
    "             [0.860,0.453],\n",
    "             [0.962,0.348],\n",
    "             [0.982,0.273],\n",
    "             [1.0,0.0]])\n",
    "f.close()\n",
    "\n",
    "Dataframe = pd.read_csv('data_file.csv')\n",
    "\"\"\"Cannot pass a CSV file directly into the plt.show() function as an argument\n",
    "Use Pandas package to create a dataframe out of the CSV file and plot the values\"\"\"\n",
    "\n",
    "plt.plot(Dataframe.precision, Dataframe.recall) \n",
    "plt.show()"
   ]
  },
  {
   "cell_type": "markdown",
   "id": "d10e67f7",
   "metadata": {},
   "source": [
    "# Bayesian Network (Example)"
   ]
  },
  {
   "cell_type": "code",
   "execution_count": 16,
   "id": "023615f6",
   "metadata": {},
   "outputs": [
    {
     "name": "stdout",
     "output_type": "stream",
     "text": [
      "Collecting package metadata (current_repodata.json): ...working... done\n",
      "Solving environment: ...working... done\n",
      "\n",
      "# All requested packages already installed.\n",
      "\n",
      "Retrieving notices: ...working... done\n",
      "\n",
      "Note: you may need to restart the kernel to use updated packages.\n"
     ]
    }
   ],
   "source": [
    "conda install -c ankurankan pgmpy"
   ]
  },
  {
   "cell_type": "code",
   "execution_count": 15,
   "id": "6f6639a2",
   "metadata": {},
   "outputs": [
    {
     "name": "stdout",
     "output_type": "stream",
     "text": [
      "Collecting opt-einsum\n",
      "  Downloading opt_einsum-3.3.0-py3-none-any.whl (65 kB)\n",
      "     ---------------------------------------- 65.5/65.5 kB 1.7 MB/s eta 0:00:00\n",
      "Requirement already satisfied: numpy>=1.7 in c:\\users\\z4224\\anaconda3\\lib\\site-packages (from opt-einsum) (1.21.5)\n",
      "Installing collected packages: opt-einsum\n",
      "Successfully installed opt-einsum-3.3.0\n",
      "Note: you may need to restart the kernel to use updated packages.\n"
     ]
    }
   ],
   "source": [
    "pip install opt-einsum"
   ]
  },
  {
   "cell_type": "code",
   "execution_count": 17,
   "id": "eaa51a46",
   "metadata": {},
   "outputs": [
    {
     "name": "stderr",
     "output_type": "stream",
     "text": [
      "C:\\Users\\z4224\\anaconda3\\lib\\site-packages\\pgmpy\\models\\BayesianModel.py:8: FutureWarning: BayesianModel has been renamed to BayesianNetwork. Please use BayesianNetwork class, BayesianModel will be removed in future.\n",
      "  warnings.warn(\n"
     ]
    }
   ],
   "source": [
    "from pgmpy.models import BayesianModel\n",
    "from pgmpy.factors.discrete import TabularCPD\n",
    "\n",
    "# Define the model structure\n",
    "model = BayesianModel([('Talent', 'Test'), ('Practice', 'Test'), ('Test', 'Offer')])"
   ]
  },
  {
   "cell_type": "code",
   "execution_count": 18,
   "id": "d4426a8a",
   "metadata": {},
   "outputs": [],
   "source": [
    "# Define individual CPDs\n",
    "cpd_Talent = TabularCPD(variable='Talent', variable_card=2, values=[[0.6],[0.4]])\n",
    "cpd_Practice = TabularCPD(variable='Practice', variable_card=2, values=[[0.7],[0.3]])"
   ]
  },
  {
   "cell_type": "code",
   "execution_count": 19,
   "id": "3663f073",
   "metadata": {},
   "outputs": [],
   "source": [
    "cpd_Test = TabularCPD(variable = 'Test', variable_card = 3,\n",
    " values = [[0.5, 0.8, 0.8, 0.9],\n",
    " [0.3, 0.15, 0.1, 0.08],\n",
    " [0.2, 0.05, 0.1, 0.02]],\n",
    " evidence = ['Practice', 'Talent'],\n",
    " evidence_card = [2,2])\n",
    "cpd_Offer = TabularCPD(variable = 'Offer', variable_card = 2,\n",
    " values = [[0.95, 0.8, 0.5],\n",
    " [0.05, 0.2, 0.5]],\n",
    " evidence = ['Test'],\n",
    " evidence_card = [3])"
   ]
  },
  {
   "cell_type": "code",
   "execution_count": 20,
   "id": "cfd6ad79",
   "metadata": {},
   "outputs": [
    {
     "data": {
      "text/plain": [
       "True"
      ]
     },
     "execution_count": 20,
     "metadata": {},
     "output_type": "execute_result"
    }
   ],
   "source": [
    "# Associate the CPDs with the network\n",
    "model.add_cpds(cpd_Talent, cpd_Practice, cpd_Test, cpd_Offer)\n",
    "model.check_model()"
   ]
  },
  {
   "cell_type": "code",
   "execution_count": 21,
   "id": "bb1ad854",
   "metadata": {},
   "outputs": [
    {
     "data": {
      "text/plain": [
       "[<TabularCPD representing P(Talent:2) at 0x254b25bf340>,\n",
       " <TabularCPD representing P(Practice:2) at 0x254b03b1d60>,\n",
       " <TabularCPD representing P(Test:3 | Practice:2, Talent:2) at 0x254b25bfb80>,\n",
       " <TabularCPD representing P(Offer:2 | Test:3) at 0x254b25bf400>]"
      ]
     },
     "execution_count": 21,
     "metadata": {},
     "output_type": "execute_result"
    }
   ],
   "source": [
    "model.get_cpds()"
   ]
  },
  {
   "cell_type": "code",
   "execution_count": 24,
   "id": "4dcb2c52",
   "metadata": {},
   "outputs": [
    {
     "name": "stdout",
     "output_type": "stream",
     "text": [
      "+-----------+-----+\n",
      "| Talent(0) | 0.6 |\n",
      "+-----------+-----+\n",
      "| Talent(1) | 0.4 |\n",
      "+-----------+-----+\n"
     ]
    },
    {
     "data": {
      "text/plain": [
       "2"
      ]
     },
     "execution_count": 24,
     "metadata": {},
     "output_type": "execute_result"
    }
   ],
   "source": [
    "# Printing a CPD \n",
    "print(model.get_cpds('Talent'))\n",
    "model.get_cardinality('Talent')"
   ]
  },
  {
   "cell_type": "code",
   "execution_count": 30,
   "id": "eee49374",
   "metadata": {},
   "outputs": [
    {
     "name": "stdout",
     "output_type": "stream",
     "text": [
      "+-------------+-----+\n",
      "| Practice(0) | 0.7 |\n",
      "+-------------+-----+\n",
      "| Practice(1) | 0.3 |\n",
      "+-------------+-----+\n"
     ]
    },
    {
     "data": {
      "text/plain": [
       "2"
      ]
     },
     "execution_count": 30,
     "metadata": {},
     "output_type": "execute_result"
    }
   ],
   "source": [
    "# Printing a CPD \n",
    "print(model.get_cpds('Practice'))\n",
    "model.get_cardinality('Practice')"
   ]
  },
  {
   "cell_type": "code",
   "execution_count": 26,
   "id": "48943d32",
   "metadata": {},
   "outputs": [
    {
     "name": "stdout",
     "output_type": "stream",
     "text": [
      "+----------+-------------+-------------+-------------+-------------+\n",
      "| Practice | Practice(0) | Practice(0) | Practice(1) | Practice(1) |\n",
      "+----------+-------------+-------------+-------------+-------------+\n",
      "| Talent   | Talent(0)   | Talent(1)   | Talent(0)   | Talent(1)   |\n",
      "+----------+-------------+-------------+-------------+-------------+\n",
      "| Test(0)  | 0.5         | 0.8         | 0.8         | 0.9         |\n",
      "+----------+-------------+-------------+-------------+-------------+\n",
      "| Test(1)  | 0.3         | 0.15        | 0.1         | 0.08        |\n",
      "+----------+-------------+-------------+-------------+-------------+\n",
      "| Test(2)  | 0.2         | 0.05        | 0.1         | 0.02        |\n",
      "+----------+-------------+-------------+-------------+-------------+\n"
     ]
    },
    {
     "data": {
      "text/plain": [
       "3"
      ]
     },
     "execution_count": 26,
     "metadata": {},
     "output_type": "execute_result"
    }
   ],
   "source": [
    "# Printing a CPD \n",
    "print(model.get_cpds('Test'))\n",
    "model.get_cardinality('Test')"
   ]
  },
  {
   "cell_type": "code",
   "execution_count": 27,
   "id": "5745a8ca",
   "metadata": {},
   "outputs": [
    {
     "name": "stdout",
     "output_type": "stream",
     "text": [
      "+----------+---------+---------+---------+\n",
      "| Test     | Test(0) | Test(1) | Test(2) |\n",
      "+----------+---------+---------+---------+\n",
      "| Offer(0) | 0.95    | 0.8     | 0.5     |\n",
      "+----------+---------+---------+---------+\n",
      "| Offer(1) | 0.05    | 0.2     | 0.5     |\n",
      "+----------+---------+---------+---------+\n"
     ]
    },
    {
     "data": {
      "text/plain": [
       "2"
      ]
     },
     "execution_count": 27,
     "metadata": {},
     "output_type": "execute_result"
    }
   ],
   "source": [
    "# Printing a CPD \n",
    "print(model.get_cpds('Offer'))\n",
    "model.get_cardinality('Offer')\n"
   ]
  }
 ],
 "metadata": {
  "kernelspec": {
   "display_name": "Python 3 (ipykernel)",
   "language": "python",
   "name": "python3"
  },
  "language_info": {
   "codemirror_mode": {
    "name": "ipython",
    "version": 3
   },
   "file_extension": ".py",
   "mimetype": "text/x-python",
   "name": "python",
   "nbconvert_exporter": "python",
   "pygments_lexer": "ipython3",
   "version": "3.9.13"
  }
 },
 "nbformat": 4,
 "nbformat_minor": 5
}
